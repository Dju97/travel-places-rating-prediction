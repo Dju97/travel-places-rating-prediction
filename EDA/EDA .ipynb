{
 "cells": [
  {
   "cell_type": "code",
   "execution_count": 28,
   "metadata": {},
   "outputs": [],
   "source": [
    "import pandas as pd\n",
    "from matplotlib import pyplot as plt\n",
    "import numpy as np\n",
    "import seaborn as sns\n"
   ]
  },
  {
   "cell_type": "code",
   "execution_count": 38,
   "metadata": {},
   "outputs": [],
   "source": [
    "df_ratings = pd.read_excel('reviews_32618_for_1098_users_with_location.xlsx')\n",
    "df_pers = pd.read_excel('pers_scores_1098.xlsx')"
   ]
  },
  {
   "cell_type": "code",
   "execution_count": 4,
   "metadata": {},
   "outputs": [
    {
     "data": {
      "image/png": "[encoded data removed]",
      "text/plain": [
       "<Figure size 432x288 with 1 Axes>"
      ]
     },
     "metadata": {},
     "output_type": "display_data"
    }
   ],
   "source": [
    "df_ratings['rating'].plot('hist')\n",
    "plt.show()"
   ]
  },
  {
   "cell_type": "code",
   "execution_count": 5,
   "metadata": {},
   "outputs": [],
   "source": [
    "df_rating_agg = df_ratings.groupby('username')['rating'].agg(['var','mean','count'])"
   ]
  },
  {
   "cell_type": "code",
   "execution_count": 6,
   "metadata": {},
   "outputs": [
    {
     "data": {
      "text/plain": [
       "<matplotlib.collections.PathCollection at 0x12df6712ba8>"
      ]
     },
     "execution_count": 6,
     "metadata": {},
     "output_type": "execute_result"
    },
    {
     "data": {
      "image/png": "[encoded data removed]",
      "text/plain": [
       "<Figure size 432x288 with 1 Axes>"
      ]
     },
     "metadata": {},
     "output_type": "display_data"
    }
   ],
   "source": [
    "plt.scatter(df_rating_agg['mean'],df_rating_agg['var'])"
   ]
  },
  {
   "cell_type": "code",
   "execution_count": 7,
   "metadata": {},
   "outputs": [
    {
     "name": "stdout",
     "output_type": "stream",
     "text": [
      "<class 'pandas.core.frame.DataFrame'>\n",
      "RangeIndex: 32580 entries, 0 to 32579\n",
      "Data columns (total 12 columns):\n",
      "id              32580 non-null int64\n",
      "username        32580 non-null object\n",
      "type            32580 non-null object\n",
      "date            32580 non-null datetime64[ns]\n",
      "title           32580 non-null object\n",
      "text            32579 non-null object\n",
      "rating          32580 non-null int64\n",
      "helpfulness     24105 non-null float64\n",
      "total_points    32580 non-null int64\n",
      "taObject        32580 non-null object\n",
      "taObjectUrl     32580 non-null object\n",
      "taObjectCity    32580 non-null object\n",
      "dtypes: datetime64[ns](1), float64(1), int64(3), object(7)\n",
      "memory usage: 3.0+ MB\n"
     ]
    }
   ],
   "source": [
    "df_ratings.info()"
   ]
  },
  {
   "cell_type": "code",
   "execution_count": 8,
   "metadata": {},
   "outputs": [
    {
     "data": {
      "text/plain": [
       "taObjectCity\n",
       "Aachen                   1\n",
       "Hayling Island           1\n",
       "Prospect                 1\n",
       "Hayters Hill             1\n",
       "Promised Land            1\n",
       "Princeville              1\n",
       "Headcorn                 1\n",
       "Prevessin                1\n",
       "Headlam                  1\n",
       "Preston Candover         1\n",
       "Prospect Heights         1\n",
       "Healy                    1\n",
       "Hebburn                  1\n",
       "Prestbury                1\n",
       "Hebron                   1\n",
       "Hedley on the Hill       1\n",
       "Presque Isle             1\n",
       "Heeze                    1\n",
       "Prescot                  1\n",
       "Predeal                  1\n",
       "Hellam                   1\n",
       "Heathcote                1\n",
       "Hayfield                 1\n",
       "Province of Leon         1\n",
       "Haydon Bridge            1\n",
       "Hartwell                 1\n",
       "Hartwick                 1\n",
       "Puegnago sul Garda       1\n",
       "Puebla                   1\n",
       "Hatfield                 1\n",
       "                      ... \n",
       "Venice                 113\n",
       "Istanbul               115\n",
       "New Orleans            121\n",
       "Boston                 124\n",
       "Madrid                 127\n",
       "Manchester             130\n",
       "Seattle                136\n",
       "Toronto                144\n",
       "Berlin                 148\n",
       "Bangkok                153\n",
       "Honolulu               155\n",
       "Dublin                 157\n",
       "San Diego              157\n",
       "Amsterdam              159\n",
       "Edinburgh              169\n",
       "Hong Kong              180\n",
       "Washington DC          180\n",
       "Dubai                  181\n",
       "Barcelona              189\n",
       "Sydney                 231\n",
       "Orlando                255\n",
       "Los Angeles            264\n",
       "Rome                   277\n",
       "Singapore              287\n",
       "San Francisco          289\n",
       "Chicago                375\n",
       "Las Vegas              430\n",
       "Paris                  501\n",
       "New York City          975\n",
       "London                1449\n",
       "Name: id, Length: 5927, dtype: int64"
      ]
     },
     "execution_count": 8,
     "metadata": {},
     "output_type": "execute_result"
    }
   ],
   "source": [
    "df_ratings.groupby('taObjectCity').agg('count').sort_values(['id'])['id']"
   ]
  },
  {
   "cell_type": "code",
   "execution_count": 36,
   "metadata": {},
   "outputs": [
    {
     "data": {
      "text/plain": [
       "taObject\n",
       "513                                                1\n",
       "Once The Musical                                   1\n",
       "Once - A New Musical                               1\n",
       "Ona Las Brisas                                     1\n",
       "Ona Club Bena Vista                                1\n",
       "Ona Cala Pi Club                                   1\n",
       "OnBoard New York Tours                             1\n",
       "On the Turps                                       1\n",
       "On the Inlet                                       1\n",
       "On the Cliff Guest House                           1\n",
       "On The Rocks                                       1\n",
       "On Board Tours DC                                  1\n",
       "Omni Scottsdale Resort & Spa at Montelucia         1\n",
       "Omni New Haven Hotel at Yale                       1\n",
       "Omni La Mansion del Rio                            1\n",
       "Omni Jacksonville Hotel                            1\n",
       "Omni Houston Hotel                                 1\n",
       "Omni Fort Worth Hotel                              1\n",
       "Omni Dallas Hotel                                  1\n",
       "Omni Charlottesville                               1\n",
       "Once Upon a Tart                                   1\n",
       "Onda Azul Restaurant                               1\n",
       "Onder de Linden                                    1\n",
       "One & Only Palmilla Resort                         1\n",
       "Operaramblas                                       1\n",
       "Operacaffe                                         1\n",
       "Opera Suites                                       1\n",
       "Opera Cadet Hotel                                  1\n",
       "Open Hearth Inn                                    1\n",
       "Open Baladin                                       1\n",
       "                                                  ..\n",
       "Hilton San Francisco Union Square                 10\n",
       "The Lion King                                     10\n",
       "Top of the Rock Observation Deck                  10\n",
       "InterContinental Singapore                        10\n",
       "Crowne Plaza Hotel London Ealing                  10\n",
       "Burj Khalifa                                      10\n",
       "InterContinental New York Barclay                 11\n",
       "Ruby Tuesday                                      11\n",
       "Holiday Inn Express London - Park Royal           11\n",
       "InterContinental London Park Lane                 11\n",
       "Candlewood Suites New York City Times Square      11\n",
       "Hotel Indigo London-Paddington                    11\n",
       "Quality Inn                                       11\n",
       "Planet Hollywood Resort & Casino                  12\n",
       "Crowne Plaza London Kensington                    12\n",
       "Venetian Resort Hotel Casino                      12\n",
       "Hard Rock Cafe                                    12\n",
       "Outback Steakhouse                                12\n",
       "The Cheesecake Factory                            12\n",
       "New York Hilton Midtown                           12\n",
       "Hilton Garden Inn Times Square                    12\n",
       "Anne Frank House (Anne Frankhuis)                 12\n",
       "Staybridge Suites Times Square - New York City    13\n",
       "InterContinental Chicago                          13\n",
       "Starbucks                                         13\n",
       "Central Park                                      14\n",
       "Holiday Inn Express London-Swiss Cottage          15\n",
       "Holiday Inn London - Camden Lock                  17\n",
       "Crowne Plaza London - The City                    18\n",
       "Crowne Plaza Times Square Manhattan               21\n",
       "Name: id, Length: 26300, dtype: int64"
      ]
     },
     "execution_count": 36,
     "metadata": {},
     "output_type": "execute_result"
    }
   ],
   "source": [
    "df_ratings.groupby('taObject').agg('count').sort_values(['id'])['id']"
   ]
  },
  {
   "cell_type": "code",
   "execution_count": 24,
   "metadata": {},
   "outputs": [
    {
     "data": {
      "text/html": [
       "<div>\n",
       "<style scoped>\n",
       "    .dataframe tbody tr th:only-of-type {\n",
       "        vertical-align: middle;\n",
       "    }\n",
       "\n",
       "    .dataframe tbody tr th {\n",
       "        vertical-align: top;\n",
       "    }\n",
       "\n",
       "    .dataframe thead th {\n",
       "        text-align: right;\n",
       "    }\n",
       "</style>\n",
       "<table border=\"1\" class=\"dataframe\">\n",
       "  <thead>\n",
       "    <tr style=\"text-align: right;\">\n",
       "      <th></th>\n",
       "      <th>open</th>\n",
       "      <th>cons</th>\n",
       "      <th>extra</th>\n",
       "      <th>agree</th>\n",
       "      <th>neuro</th>\n",
       "    </tr>\n",
       "  </thead>\n",
       "  <tbody>\n",
       "    <tr>\n",
       "      <th>count</th>\n",
       "      <td>1098.000000</td>\n",
       "      <td>1098.000000</td>\n",
       "      <td>1098.000000</td>\n",
       "      <td>1098.000000</td>\n",
       "      <td>1098.000000</td>\n",
       "    </tr>\n",
       "    <tr>\n",
       "      <th>mean</th>\n",
       "      <td>0.645438</td>\n",
       "      <td>0.558867</td>\n",
       "      <td>0.566474</td>\n",
       "      <td>0.584330</td>\n",
       "      <td>0.458124</td>\n",
       "    </tr>\n",
       "    <tr>\n",
       "      <th>std</th>\n",
       "      <td>0.012748</td>\n",
       "      <td>0.010509</td>\n",
       "      <td>0.005485</td>\n",
       "      <td>0.006693</td>\n",
       "      <td>0.009233</td>\n",
       "    </tr>\n",
       "    <tr>\n",
       "      <th>min</th>\n",
       "      <td>0.426230</td>\n",
       "      <td>0.381220</td>\n",
       "      <td>0.469150</td>\n",
       "      <td>0.482840</td>\n",
       "      <td>0.435860</td>\n",
       "    </tr>\n",
       "    <tr>\n",
       "      <th>25%</th>\n",
       "      <td>0.641757</td>\n",
       "      <td>0.556050</td>\n",
       "      <td>0.565147</td>\n",
       "      <td>0.582013</td>\n",
       "      <td>0.454113</td>\n",
       "    </tr>\n",
       "    <tr>\n",
       "      <th>50%</th>\n",
       "      <td>0.646445</td>\n",
       "      <td>0.559180</td>\n",
       "      <td>0.567000</td>\n",
       "      <td>0.585040</td>\n",
       "      <td>0.457530</td>\n",
       "    </tr>\n",
       "    <tr>\n",
       "      <th>75%</th>\n",
       "      <td>0.650695</td>\n",
       "      <td>0.562797</td>\n",
       "      <td>0.568610</td>\n",
       "      <td>0.587765</td>\n",
       "      <td>0.461027</td>\n",
       "    </tr>\n",
       "    <tr>\n",
       "      <th>max</th>\n",
       "      <td>0.671930</td>\n",
       "      <td>0.594050</td>\n",
       "      <td>0.577100</td>\n",
       "      <td>0.606020</td>\n",
       "      <td>0.612050</td>\n",
       "    </tr>\n",
       "  </tbody>\n",
       "</table>\n",
       "</div>"
      ],
      "text/plain": [
       "              open         cons        extra        agree        neuro\n",
       "count  1098.000000  1098.000000  1098.000000  1098.000000  1098.000000\n",
       "mean      0.645438     0.558867     0.566474     0.584330     0.458124\n",
       "std       0.012748     0.010509     0.005485     0.006693     0.009233\n",
       "min       0.426230     0.381220     0.469150     0.482840     0.435860\n",
       "25%       0.641757     0.556050     0.565147     0.582013     0.454113\n",
       "50%       0.646445     0.559180     0.567000     0.585040     0.457530\n",
       "75%       0.650695     0.562797     0.568610     0.587765     0.461027\n",
       "max       0.671930     0.594050     0.577100     0.606020     0.612050"
      ]
     },
     "execution_count": 24,
     "metadata": {},
     "output_type": "execute_result"
    }
   ],
   "source": [
    "df_pers_norm = df_pers\n",
    "df_pers.describe()"
   ]
  },
  {
   "cell_type": "code",
   "execution_count": 40,
   "metadata": {},
   "outputs": [
    {
     "data": {
      "image/png": "[encoded data removed]",
      "text/plain": [
       "<Figure size 432x288 with 1 Axes>"
      ]
     },
     "metadata": {},
     "output_type": "display_data"
    }
   ],
   "source": [
    "features = ['open','cons','extra','agree','neuro']\n",
    "\n",
    "for i in features:\n",
    "    n = len(df_pers[i])\n",
    "    x = np.sort(df_pers[i])\n",
    "    y = np.arange(1,n+1) / n\n",
    "    plt.scatter(x,y,label=i)\n",
    "plt.legend()\n",
    "plt.plot()\n",
    "\n",
    "for i in features:\n",
    "    df_pers_norm[i] = (df_pers[i]-np.mean(df_pers[i]))/np.std(df_pers[i])"
   ]
  },
  {
   "cell_type": "code",
   "execution_count": 29,
   "metadata": {},
   "outputs": [
    {
     "data": {
      "text/plain": [
       "<matplotlib.axes._subplots.AxesSubplot at 0x12df5e903c8>"
      ]
     },
     "execution_count": 29,
     "metadata": {},
     "output_type": "execute_result"
    },
    {
     "data": {
      "image/png": "[encoded data removed]",
      "text/plain": [
       "<Figure size 720x576 with 2 Axes>"
      ]
     },
     "metadata": {},
     "output_type": "display_data"
    }
   ],
   "source": [
    "f, ax = plt.subplots(figsize=(10, 8))\n",
    "corr = df_pers[features].corr()\n",
    "sns.heatmap(corr,mask=np.zeros_like(corr, dtype=np.bool), cmap=sns.diverging_palette(220, 10, as_cmap=True),\n",
    "            square=True, ax=ax)"
   ]
  },
  {
   "cell_type": "code",
   "execution_count": 35,
   "metadata": {},
   "outputs": [
    {
     "data": {
      "image/png": "[encoded data removed]",
      "text/plain": [
       "<Figure size 432x288 with 1 Axes>"
      ]
     },
     "metadata": {},
     "output_type": "display_data"
    }
   ],
   "source": [
    "plt.scatter(df_pers['open'],df_pers['neuro'])\n",
    "plt.show()"
   ]
  }
 ],
 "metadata": {
  "kernelspec": {
   "display_name": "Python 3",
   "language": "python",
   "name": "python3"
  },
  "language_info": {
   "codemirror_mode": {
    "name": "ipython",
    "version": 3
   },
   "file_extension": ".py",
   "mimetype": "text/x-python",
   "name": "python",
   "nbconvert_exporter": "python",
   "pygments_lexer": "ipython3",
   "version": "3.6.5"
  }
 },
 "nbformat": 4,
 "nbformat_minor": 2
}
